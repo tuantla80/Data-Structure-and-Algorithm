{
 "cells": [
  {
   "cell_type": "markdown",
   "metadata": {},
   "source": [
    "### Binary Search Tree (BST) implementation  \n",
    "> Ref: https://leetcode.com/problems/validate-binary-search-tree/  \n",
    "       Data structures: Binary Search Tree https://www.youtube.com/watch?v=pYT9F8_LFTM"
   ]
  },
  {
   "cell_type": "code",
   "execution_count": 20,
   "metadata": {},
   "outputs": [
    {
     "name": "stdout",
     "output_type": "stream",
     "text": [
      "True\n",
      "False\n"
     ]
    }
   ],
   "source": [
    "'''\n",
    "BST: recursion solution\n",
    "'''\n",
    "\n",
    "class TreeNode:\n",
    "    '''\n",
    "    Definition for a binary tree node.\n",
    "    '''\n",
    "    def __init__(self, x):\n",
    "        self.val = x\n",
    "        self.left = None\n",
    "        self.right = None\n",
    "        \n",
    "        \n",
    "class Solution:\n",
    "    def isValidBST(self, root: TreeNode) -> bool:\n",
    "        def helper(node, lower_bound, upper_bound):\n",
    "            if not node:  # base case\n",
    "                return True\n",
    "            \n",
    "            val = node.val\n",
    "            if val <= lower_bound or val >= upper_bound: \n",
    "                # Use > or >=, < or <= based on the definition of BST\n",
    "                return False\n",
    "            \n",
    "            if not helper(node.left, lower_bound, val):\n",
    "                return False\n",
    "            \n",
    "            if not helper(node.right, val, upper_bound):\n",
    "                return False\n",
    "            \n",
    "            return True\n",
    "        \n",
    "        return helper(root, float('-inf'), float('inf'))\n",
    "    \n",
    "# Test 1\n",
    "node = TreeNode(4)\n",
    "node.left = TreeNode(1)\n",
    "node.right = TreeNode(8)\n",
    "\n",
    "node.left.left = TreeNode(-1)\n",
    "node.left.right = TreeNode(2)\n",
    "node.right.left = TreeNode(6)  \n",
    "node.right.right = TreeNode(10)  # change 10 to 7 will make BST is false\n",
    "\n",
    "print(Solution().isValidBST(node))\n",
    "\n",
    "# Test 2\n",
    "node = TreeNode(1)\n",
    "node.left = TreeNode(1)\n",
    "print(Solution().isValidBST(node))"
   ]
  },
  {
   "cell_type": "code",
   "execution_count": null,
   "metadata": {},
   "outputs": [],
   "source": []
  }
 ],
 "metadata": {
  "kernelspec": {
   "display_name": "Python 3",
   "language": "python",
   "name": "python3"
  },
  "language_info": {
   "codemirror_mode": {
    "name": "ipython",
    "version": 3
   },
   "file_extension": ".py",
   "mimetype": "text/x-python",
   "name": "python",
   "nbconvert_exporter": "python",
   "pygments_lexer": "ipython3",
   "version": "3.6.5"
  }
 },
 "nbformat": 4,
 "nbformat_minor": 2
}
