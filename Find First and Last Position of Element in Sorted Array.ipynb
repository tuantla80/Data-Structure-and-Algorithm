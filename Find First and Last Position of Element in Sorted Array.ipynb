{
 "cells": [
  {
   "cell_type": "markdown",
   "metadata": {},
   "source": [
    "#### Find First and Last Position of Element in Sorted Array  \n",
    "> Ref: https://leetcode.com/problems/find-first-and-last-position-of-element-in-sorted-array/"
   ]
  },
  {
   "cell_type": "code",
   "execution_count": 1,
   "metadata": {},
   "outputs": [
    {
     "name": "stdout",
     "output_type": "stream",
     "text": [
      "[3, 4]\n",
      "[-1, -1]\n"
     ]
    }
   ],
   "source": [
    "'''\n",
    "Approach: Using binary search (iterative way)\n",
    "'''\n",
    "class Solution(object):\n",
    "    def searchRange(self, nums, target):\n",
    "        \"\"\"\n",
    "        :type nums: List[int]\n",
    "        :type target: int\n",
    "        :rtype: List[int]\n",
    "        \"\"\"\n",
    "        first_idx = self.binarySearch(arr=nums, low_idx=0, high_idx=len(nums)-1, target=target, find_first=True)\n",
    "        last_idx = self.binarySearch(arr=nums, low_idx=0, high_idx=len(nums)-1, target=target, find_first=False)\n",
    "        return [first_idx, last_idx]\n",
    "    \n",
    "    def binarySearch(self, arr, low_idx, high_idx, target, find_first):\n",
    "        while True:\n",
    "            if high_idx < low_idx: \n",
    "                return -1  \n",
    "            mid_idx = low_idx + (high_idx - low_idx)//2\n",
    "            if find_first:\n",
    "                if (mid_idx == 0 or target > arr[mid_idx-1]) and arr[mid_idx] == target:\n",
    "                    return mid_idx\n",
    "                if target > arr[mid_idx]:\n",
    "                    low_idx = mid_idx + 1\n",
    "                else: \n",
    "                    high_idx = mid_idx - 1\n",
    "            else:  # find last\n",
    "                if (mid_idx == len(arr) - 1 or target < arr[mid_idx+1]) and arr[mid_idx] == target:\n",
    "                    return mid_idx\n",
    "                if target < arr[mid_idx]:\n",
    "                    high_idx = mid_idx - 1\n",
    "                else: \n",
    "                    low_idx = mid_idx + 1\n",
    "\n",
    "# TEST\n",
    "nums = [5, 7, 7, 8, 8, 10]\n",
    "print(Solution().searchRange(nums, target=8)) #  [3,4]\n",
    "print(Solution().searchRange(nums, target=6)) #  [-1, -1]   "
   ]
  }
 ],
 "metadata": {
  "kernelspec": {
   "display_name": "Python 3",
   "language": "python",
   "name": "python3"
  },
  "language_info": {
   "codemirror_mode": {
    "name": "ipython",
    "version": 3
   },
   "file_extension": ".py",
   "mimetype": "text/x-python",
   "name": "python",
   "nbconvert_exporter": "python",
   "pygments_lexer": "ipython3",
   "version": "3.7.3"
  }
 },
 "nbformat": 4,
 "nbformat_minor": 2
}
