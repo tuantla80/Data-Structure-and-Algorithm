{
 "cells": [
  {
   "cell_type": "markdown",
   "metadata": {},
   "source": [
    "#### Add two numbers  \n",
    "> Ref: https://leetcode.com/problems/add-two-numbers-ii/"
   ]
  },
  {
   "cell_type": "code",
   "execution_count": 25,
   "metadata": {},
   "outputs": [
    {
     "name": "stdout",
     "output_type": "stream",
     "text": [
      "7 2 4 3\n",
      "5 6 4\n",
      "7 8 0 7\n"
     ]
    }
   ],
   "source": [
    "# Definition for singly-linked list.\n",
    "class ListNode(object):\n",
    "    def __init__(self, x):\n",
    "        self.val = x\n",
    "        self.next = None\n",
    "\n",
    "class Solution:\n",
    "  def addTwoNumbers(self, l1, l2):\n",
    "    \"\"\"\n",
    "        :type l1: ListNode\n",
    "        :type l2: ListNode\n",
    "        :rtype: ListNode\n",
    "    \"\"\"\n",
    "    return self.addTwoNumbersRecursive(l1, l2, 0)\n",
    "    # return self.addTwoNumbersIterative(l1, l2)\n",
    "\n",
    "  def addTwoNumbersRecursive(self, l1, l2, c):\n",
    "    val = l1.val + l2.val + c\n",
    "    c = val // 10\n",
    "    return_val = ListNode(val % 10)\n",
    "\n",
    "    if l1.next != None or l2.next != None:\n",
    "      # Add zero for a shorter linked list\n",
    "      if not l1.next:\n",
    "        l1.next = ListNode(0)\n",
    "      if not l2.next:\n",
    "        l2.next = ListNode(0)\n",
    "        \n",
    "      return_val.next = self.addTwoNumbersRecursive(l1.next, l2.next, c)\n",
    "    elif c:\n",
    "      return_val.next = ListNode(c)\n",
    "    return return_val\n",
    "\n",
    "# Test  7243 + 564 = 7807\n",
    "# Input: (7 -> 2 -> 4 -> 3) + (5 -> 6 -> 4)\n",
    "# Output: 7 -> 8 -> 0 -> 7\n",
    "l1 = ListNode(3) \n",
    "l1.next = ListNode(4)\n",
    "l1.next.next = ListNode(2)\n",
    "l1.next.next.next = ListNode(7)\n",
    "print(l1.next.next.next.val, l1.next.next.val, l1.next.val, l1.val)\n",
    "\n",
    "l2 = ListNode(4)\n",
    "l2.next = ListNode(6)\n",
    "l2.next.next = ListNode(5)\n",
    "print(l2.next.next.val,  l2.next.val, l2.val)\n",
    "\n",
    "l3 = Solution().addTwoNumbers(l1, l2)\n",
    "print(l3.next.next.next.val, l3.next.next.val, l3.next.val, l3.val) #, l3.next.next.next.next.val)"
   ]
  },
  {
   "cell_type": "code",
   "execution_count": 22,
   "metadata": {},
   "outputs": [
    {
     "data": {
      "text/plain": [
       "1"
      ]
     },
     "execution_count": 22,
     "metadata": {},
     "output_type": "execute_result"
    }
   ],
   "source": [
    "12 //10"
   ]
  },
  {
   "cell_type": "code",
   "execution_count": null,
   "metadata": {},
   "outputs": [],
   "source": []
  }
 ],
 "metadata": {
  "kernelspec": {
   "display_name": "Python 3",
   "language": "python",
   "name": "python3"
  },
  "language_info": {
   "codemirror_mode": {
    "name": "ipython",
    "version": 3
   },
   "file_extension": ".py",
   "mimetype": "text/x-python",
   "name": "python",
   "nbconvert_exporter": "python",
   "pygments_lexer": "ipython3",
   "version": "3.7.3"
  }
 },
 "nbformat": 4,
 "nbformat_minor": 2
}
