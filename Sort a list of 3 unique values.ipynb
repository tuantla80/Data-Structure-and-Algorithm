{
 "cells": [
  {
   "cell_type": "markdown",
   "metadata": {},
   "source": [
    "> Questions: Sort a list of 3 unique values  \n",
    "> Ex. nums = [2, 1, 1, 3, 2, 1, 3]  --> return: [1, 1, 1, 2, 2, 3, 3]"
   ]
  },
  {
   "cell_type": "markdown",
   "metadata": {},
   "source": [
    "#### Solution 1"
   ]
  },
  {
   "cell_type": "code",
   "execution_count": 1,
   "metadata": {},
   "outputs": [],
   "source": [
    "def sort_nums(nums):\n",
    "    '''\n",
    "    Make 2 pointer: idx1 for the 1 value and idx3 for 3 values.\n",
    "    Time complexity: O(n)\n",
    "    Space complexity: O(1)\n",
    "    '''\n",
    "    if len(nums) == 0 or len(nums) == 1:\n",
    "        return numns\n",
    "    \n",
    "    idx1 = 0\n",
    "    idx3 = len(nums) - 1\n",
    "    idx = 0  # a pointer to run\n",
    "    while idx < idx3:\n",
    "        if nums[idx] == 1:\n",
    "            nums[idx], nums[idx1] = nums[idx1], nums[idx]  # swap\n",
    "            idx += 1\n",
    "            idx1 += 1\n",
    "        elif nums[idx] == 2:\n",
    "            idx += 1\n",
    "        elif nums[idx] == 3:\n",
    "            nums[idx], nums[idx3] = nums[idx3], nums[idx]  # swap\n",
    "            idx3 -= 1           \n",
    "    return nums"
   ]
  },
  {
   "cell_type": "code",
   "execution_count": 2,
   "metadata": {},
   "outputs": [
    {
     "name": "stdout",
     "output_type": "stream",
     "text": [
      "[1, 1, 1, 2, 2, 3, 3]\n"
     ]
    }
   ],
   "source": [
    "print(sort_nums(nums=[2, 1, 1, 3, 2, 1, 3]))"
   ]
  },
  {
   "cell_type": "markdown",
   "metadata": {},
   "source": [
    "#### Solution 2"
   ]
  },
  {
   "cell_type": "code",
   "execution_count": 3,
   "metadata": {},
   "outputs": [],
   "source": [
    "from collections import Counter\n",
    "\n",
    "def sort_nums2(nums):\n",
    "    '''\n",
    "    Using Python dict (hash map)\n",
    "    Time complexity: O(n)\n",
    "    Space complexity: O(n)\n",
    "    '''\n",
    "    if len(nums) == 0 or len(nums) == 1:\n",
    "        return numns\n",
    "    cnt = Counter()\n",
    "    for num in nums:\n",
    "        cnt[num] +=1\n",
    "    \n",
    "    return [1]*cnt[1] + [2]*cnt[2] + [3]*cnt[3]"
   ]
  },
  {
   "cell_type": "code",
   "execution_count": 4,
   "metadata": {},
   "outputs": [
    {
     "name": "stdout",
     "output_type": "stream",
     "text": [
      "[1, 1, 1, 2, 2, 3, 3]\n"
     ]
    }
   ],
   "source": [
    "print(sort_nums2(nums=[2, 1, 1, 3, 2, 1, 3]))"
   ]
  }
 ],
 "metadata": {
  "kernelspec": {
   "display_name": "Python 3",
   "language": "python",
   "name": "python3"
  },
  "language_info": {
   "codemirror_mode": {
    "name": "ipython",
    "version": 3
   },
   "file_extension": ".py",
   "mimetype": "text/x-python",
   "name": "python",
   "nbconvert_exporter": "python",
   "pygments_lexer": "ipython3",
   "version": "3.7.3"
  }
 },
 "nbformat": 4,
 "nbformat_minor": 2
}
