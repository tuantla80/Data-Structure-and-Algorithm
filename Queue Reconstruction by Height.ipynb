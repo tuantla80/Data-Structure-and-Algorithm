{
 "cells": [
  {
   "cell_type": "markdown",
   "metadata": {},
   "source": [
    "#### Queue Reconstruction by Height  \n",
    "> Ref; https://leetcode.com/problems/queue-reconstruction-by-height/"
   ]
  },
  {
   "cell_type": "code",
   "execution_count": 1,
   "metadata": {},
   "outputs": [
    {
     "data": {
      "text/plain": [
       "[[5, 0], [7, 0], [5, 2], [6, 1], [4, 4], [7, 1]]"
      ]
     },
     "execution_count": 1,
     "metadata": {},
     "output_type": "execute_result"
    }
   ],
   "source": [
    "class Solution(object):\n",
    "    def reconstructQueue(self, people):\n",
    "        \"\"\"\n",
    "        :type people: List[List[int]]\n",
    "        :rtype: List[List[int]]\n",
    "        Example:\n",
    "        pairs (h, k) values, where h is the height of the person and \n",
    "        k is the number of people in front of this person who have a\n",
    "        height greater than or equal to h\n",
    "        Input: [[7,0], [4,4], [7,1], [5,0], [6,1], [5,2]]\n",
    "        Output:[[5,0], [7,0], [5,2], [6,1], [4,4], [7,1]]\n",
    "        \"\"\"\n",
    "        # Step 1: sort by h in descending order and then by k in ascending order\n",
    "        people.sort(key = lambda p: (-p[0], p[1]))\n",
    "        \n",
    "        # Step 2: insertion sort\n",
    "        results = []\n",
    "        for p in people:\n",
    "            results.insert(p[1], p)\n",
    "        return results\n",
    "results = Solution().reconstructQueue(people=[[7,0], [4,4], [7,1], [5,0], [6,1], [5,2]])    \n",
    "results     "
   ]
  }
 ],
 "metadata": {
  "kernelspec": {
   "display_name": "Python 3",
   "language": "python",
   "name": "python3"
  },
  "language_info": {
   "codemirror_mode": {
    "name": "ipython",
    "version": 3
   },
   "file_extension": ".py",
   "mimetype": "text/x-python",
   "name": "python",
   "nbconvert_exporter": "python",
   "pygments_lexer": "ipython3",
   "version": "3.7.3"
  }
 },
 "nbformat": 4,
 "nbformat_minor": 2
}
