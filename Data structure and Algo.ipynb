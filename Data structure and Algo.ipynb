{
 "cells": [
  {
   "cell_type": "markdown",
   "metadata": {},
   "source": [
    "# Data structure and Algo in Pythonic code"
   ]
  },
  {
   "cell_type": "markdown",
   "metadata": {},
   "source": [
    "## 1. Graph"
   ]
  },
  {
   "cell_type": "markdown",
   "metadata": {},
   "source": [
    "### 1.1. DFS (Depth First Search)"
   ]
  },
  {
   "cell_type": "markdown",
   "metadata": {},
   "source": [
    "``` Assuming the graph is as below:\n",
    "    '''\n",
    "   +---- A\n",
    "   |   /   \\\n",
    "   |  B--D--C\n",
    "   |   \\ | /\n",
    "   +---- E\n",
    "'''\n",
    "graph = {'A':['B','C'],'B':['D','E'],'C':['D','E'],'D':['E'],'E':['A']}\n",
    "```"
   ]
  },
  {
   "cell_type": "markdown",
   "metadata": {},
   "source": [
    "#### DFS"
   ]
  },
  {
   "cell_type": "code",
   "execution_count": 36,
   "metadata": {},
   "outputs": [],
   "source": [
    "def dfs(graph, start, path=[]):\n",
    "    \"\"\"\n",
    "    The handwriting (or we can print() at code):\n",
    "    Step 1: Initialization\n",
    "            graph = {'A':['B','C'],'B':['D','E'],'C':['D','E'],'D':['E'],'E':['A']}\n",
    "            start = 'A'\n",
    "            path=[]\n",
    "            stack = [start] # = 'A'\n",
    "    Step 2: v = 'A'\n",
    "            stack = []\n",
    "            path = ['A']\n",
    "            stack = ['B', 'C']\n",
    "    Step 3: v = ['B']\n",
    "            stack = ['C']\n",
    "            path = ['A', 'B']\n",
    "            stack = ['D', 'E', 'C']  # Note the order of stack\n",
    "    Step 4: v = 'D'\n",
    "            stack = ['E', 'C']\n",
    "            path = ['A', 'B', 'D']\n",
    "            stack = ['E', 'E', 'C']  # Note the order of stack\n",
    "    Step 5: v = 'E'\n",
    "            stack = ['E', 'C']\n",
    "            path = ['A', 'B', 'D', 'E']\n",
    "            stack = ['A', 'E', 'C']\n",
    "    Step 6: v = 'A'\n",
    "            stack = ['E', 'C']\n",
    "            Others not change\n",
    "    Step 7: v = 'E'\n",
    "            stack = ['C']\n",
    "            Others not change\n",
    "    Step 8: v = 'C'\n",
    "            stack = []\n",
    "            path = ['A', 'B', 'D', 'E', 'C']\n",
    "            stack = ['D', 'E']\n",
    "    Step 9: v = 'D'\n",
    "            stack = ['E']\n",
    "            Others not change\n",
    "    Step 10: v = 'E'\n",
    "            stack = []\n",
    "            Others not change\n",
    "    Finish       \n",
    "    \"\"\"\n",
    "    assert isinstance(graph, dict)\n",
    "    assert isinstance(start, str)\n",
    "    assert isinstance(path, list)\n",
    "    \n",
    "    stack = [start]\n",
    "    while stack:\n",
    "        v = stack.pop(0)\n",
    "        if v not in path:\n",
    "            path = path + [v]\n",
    "            stack = graph[v] + stack\n",
    "    return path"
   ]
  },
  {
   "cell_type": "code",
   "execution_count": 38,
   "metadata": {},
   "outputs": [
    {
     "data": {
      "text/plain": [
       "['A', 'B', 'D', 'E', 'C']"
      ]
     },
     "execution_count": 38,
     "metadata": {},
     "output_type": "execute_result"
    }
   ],
   "source": [
    "# Test\n",
    "graph = { 'A':['B','C'],\n",
    "          'B':['D','E'],\n",
    "          'C':['D','E'],\n",
    "          'D':['E'],\n",
    "          'E':['A']}\n",
    "path = dfs(graph=graph, \n",
    "           start='A')  \n",
    "path  # ['A', 'B', 'D', 'E', 'C']"
   ]
  },
  {
   "cell_type": "markdown",
   "metadata": {},
   "source": [
    "#### unittest"
   ]
  },
  {
   "cell_type": "code",
   "execution_count": 39,
   "metadata": {},
   "outputs": [],
   "source": [
    "import unittest"
   ]
  },
  {
   "cell_type": "code",
   "execution_count": 40,
   "metadata": {},
   "outputs": [],
   "source": [
    "graph = { 'A':['B','C'],\n",
    "          'B':['D','E'],\n",
    "          'C':['D','E'],\n",
    "          'D':['E'],\n",
    "          'E':['A']}\n",
    "\n",
    "class DFStest(unittest.TestCase):\n",
    "    def test_dfs(self):\n",
    "        self.assertSequenceEqual(dfs(graph, start=\"A\", path=[]), ['A', 'B', 'D', 'E', 'C'])"
   ]
  },
  {
   "cell_type": "code",
   "execution_count": 41,
   "metadata": {},
   "outputs": [
    {
     "name": "stderr",
     "output_type": "stream",
     "text": [
      ".\n",
      "----------------------------------------------------------------------\n",
      "Ran 1 test in 0.002s\n",
      "\n",
      "OK\n"
     ]
    }
   ],
   "source": [
    "if __name__ == '__main__':\n",
    "    unittest.main(argv=['first-arg-is-ignored'], exit=False)"
   ]
  },
  {
   "cell_type": "markdown",
   "metadata": {},
   "source": [
    "### 1.2. BFS (Breath First Search)"
   ]
  },
  {
   "cell_type": "markdown",
   "metadata": {},
   "source": [
    "#### bfs"
   ]
  },
  {
   "cell_type": "code",
   "execution_count": 42,
   "metadata": {},
   "outputs": [],
   "source": [
    "def bfs(graph, start, path=[]):\n",
    "    assert isinstance(graph, dict)\n",
    "    assert isinstance(start, str)\n",
    "    assert isinstance(path, list)\n",
    "    \n",
    "    queue = [start]\n",
    "    while queue:\n",
    "        v = queue.pop(0)\n",
    "        if v not in path:\n",
    "            path = path + [v]\n",
    "            queue = queue + graph[v]  # The difference with dfs is only here. Note the \"order\".\n",
    "    return path"
   ]
  },
  {
   "cell_type": "code",
   "execution_count": 43,
   "metadata": {},
   "outputs": [
    {
     "data": {
      "text/plain": [
       "['A', 'B', 'C', 'D', 'E']"
      ]
     },
     "execution_count": 43,
     "metadata": {},
     "output_type": "execute_result"
    }
   ],
   "source": [
    "# Test\n",
    "graph = { 'A':['B','C'],\n",
    "          'B':['D','E'],\n",
    "          'C':['D','E'],\n",
    "          'D':['E'],\n",
    "          'E':['A']}\n",
    "path = bfs(graph=graph,  \n",
    "           start='A')  \n",
    "path  # ['A', 'B', 'C', 'D', 'E']"
   ]
  },
  {
   "cell_type": "markdown",
   "metadata": {},
   "source": [
    "#### unittest"
   ]
  },
  {
   "cell_type": "code",
   "execution_count": 48,
   "metadata": {},
   "outputs": [],
   "source": [
    "import unittest\n",
    "\n",
    "graph = { 'A':['B','C'],\n",
    "          'B':['D','E'],\n",
    "          'C':['D','E'],\n",
    "          'D':['E'],\n",
    "          'E':['A']}\n",
    "\n",
    "class BFStest(unittest.TestCase):\n",
    "    def test_bfs(self):\n",
    "        self.assertSequenceEqual(bfs(graph=graph, start='A'), ['A', 'B', 'C', 'D', 'E'])"
   ]
  },
  {
   "cell_type": "code",
   "execution_count": 49,
   "metadata": {},
   "outputs": [
    {
     "name": "stderr",
     "output_type": "stream",
     "text": [
      "..\n",
      "----------------------------------------------------------------------\n",
      "Ran 2 tests in 0.005s\n",
      "\n",
      "OK\n"
     ]
    }
   ],
   "source": [
    "if __name__ == \"__main__\":\n",
    "    unittest.main(argv=['first-arg-is-ignored'], exit=False)"
   ]
  },
  {
   "cell_type": "code",
   "execution_count": null,
   "metadata": {},
   "outputs": [],
   "source": []
  }
 ],
 "metadata": {
  "kernelspec": {
   "display_name": "Python 3",
   "language": "python",
   "name": "python3"
  },
  "language_info": {
   "codemirror_mode": {
    "name": "ipython",
    "version": 3
   },
   "file_extension": ".py",
   "mimetype": "text/x-python",
   "name": "python",
   "nbconvert_exporter": "python",
   "pygments_lexer": "ipython3",
   "version": "3.7.3"
  }
 },
 "nbformat": 4,
 "nbformat_minor": 2
}
