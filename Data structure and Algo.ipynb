{
 "cells": [
  {
   "cell_type": "markdown",
   "metadata": {},
   "source": [
    "# Data structure and Algo in Pythonic code"
   ]
  },
  {
   "cell_type": "markdown",
   "metadata": {},
   "source": [
    "## 1. Graph"
   ]
  },
  {
   "cell_type": "markdown",
   "metadata": {},
   "source": [
    "### 1.1. DFS (Depth First Search)"
   ]
  },
  {
   "cell_type": "markdown",
   "metadata": {},
   "source": [
    "#### DFS"
   ]
  },
  {
   "cell_type": "code",
   "execution_count": 1,
   "metadata": {},
   "outputs": [],
   "source": [
    "def dfs(graph, start, path=[]):\n",
    "    \"\"\"\n",
    "    Assuming the graph is as below (for visualization using networkx, refer to the part 2 of this Jupyter Notebook):\n",
    "        A\n",
    "      /   \\\n",
    "      B--D--C\n",
    "       \\ | /\n",
    "         E\n",
    "    \n",
    "    graph = {'A':['B','C'],'B':['D','E'],'C':['D','E'],'D':['E'],'E':['A']}\n",
    "    \n",
    "    The handwriting (or we can print() at code):\n",
    "    Step 1: Initialization\n",
    "            graph = {'A':['B','C'],'B':['D','E'],'C':['D','E'],'D':['E'],'E':['A']}\n",
    "            start = 'A'\n",
    "            path=[]\n",
    "            stack = [start] # = 'A'\n",
    "    Step 2: v = 'A'\n",
    "            stack = []\n",
    "            path = ['A']\n",
    "            stack = ['B', 'C']\n",
    "    Step 3: v = ['B']\n",
    "            stack = ['C']\n",
    "            path = ['A', 'B']\n",
    "            stack = ['D', 'E', 'C']  # Note the order of stack\n",
    "    Step 4: v = 'D'\n",
    "            stack = ['E', 'C']\n",
    "            path = ['A', 'B', 'D']\n",
    "            stack = ['E', 'E', 'C']  # Note the order of stack\n",
    "    Step 5: v = 'E'\n",
    "            stack = ['E', 'C']\n",
    "            path = ['A', 'B', 'D', 'E']\n",
    "            stack = ['A', 'E', 'C']\n",
    "    Step 6: v = 'A'\n",
    "            stack = ['E', 'C']\n",
    "            Others not change\n",
    "    Step 7: v = 'E'\n",
    "            stack = ['C']\n",
    "            Others not change\n",
    "    Step 8: v = 'C'\n",
    "            stack = []\n",
    "            path = ['A', 'B', 'D', 'E', 'C']\n",
    "            stack = ['D', 'E']\n",
    "    Step 9: v = 'D'\n",
    "            stack = ['E']\n",
    "            Others not change\n",
    "    Step 10: v = 'E'\n",
    "            stack = []\n",
    "            Others not change\n",
    "    Finish       \n",
    "    \"\"\"\n",
    "    assert isinstance(graph, dict)\n",
    "    assert isinstance(start, str)\n",
    "    assert isinstance(path, list)\n",
    "    \n",
    "    stack = [start]\n",
    "    while stack:\n",
    "        v = stack.pop(0)\n",
    "        if v not in path:\n",
    "            path = path + [v]\n",
    "            stack = graph[v] + stack\n",
    "    return path"
   ]
  },
  {
   "cell_type": "code",
   "execution_count": 2,
   "metadata": {},
   "outputs": [
    {
     "data": {
      "text/plain": [
       "['A', 'B', 'D', 'E', 'C']"
      ]
     },
     "execution_count": 2,
     "metadata": {},
     "output_type": "execute_result"
    }
   ],
   "source": [
    "# Test\n",
    "graph = { 'A':['B','C'],\n",
    "          'B':['D','E'],\n",
    "          'C':['D','E'],\n",
    "          'D':['E'],\n",
    "          'E':['A']}\n",
    "path = dfs(graph=graph, \n",
    "           start='A')  \n",
    "path  # ['A', 'B', 'D', 'E', 'C']"
   ]
  },
  {
   "cell_type": "markdown",
   "metadata": {},
   "source": [
    "#### unittest"
   ]
  },
  {
   "cell_type": "code",
   "execution_count": 3,
   "metadata": {},
   "outputs": [],
   "source": [
    "import unittest"
   ]
  },
  {
   "cell_type": "code",
   "execution_count": 4,
   "metadata": {},
   "outputs": [],
   "source": [
    "graph = { 'A':['B','C'],\n",
    "          'B':['D','E'],\n",
    "          'C':['D','E'],\n",
    "          'D':['E'],\n",
    "          'E':['A']}\n",
    "\n",
    "class DFStest(unittest.TestCase):\n",
    "    def test_dfs(self):\n",
    "        self.assertSequenceEqual(dfs(graph, start=\"A\", path=[]), ['A', 'B', 'D', 'E', 'C'])"
   ]
  },
  {
   "cell_type": "code",
   "execution_count": 5,
   "metadata": {},
   "outputs": [
    {
     "name": "stderr",
     "output_type": "stream",
     "text": [
      ".\n",
      "----------------------------------------------------------------------\n",
      "Ran 1 test in 0.007s\n",
      "\n",
      "OK\n"
     ]
    }
   ],
   "source": [
    "if __name__ == '__main__':\n",
    "    unittest.main(argv=['first-arg-is-ignored'], exit=False)"
   ]
  },
  {
   "cell_type": "markdown",
   "metadata": {},
   "source": [
    "#### dfs (recursion)"
   ]
  },
  {
   "cell_type": "code",
   "execution_count": 6,
   "metadata": {},
   "outputs": [],
   "source": [
    "def dfs_recursion(graph, start, path=[]):\n",
    "    assert isinstance(graph, dict)\n",
    "    assert isinstance(start, str)\n",
    "    assert isinstance(path, list)\n",
    "    \n",
    "    path = path + [start]\n",
    "    for node in graph[start]:\n",
    "        if not node in path:\n",
    "            path = dfs_recursion(graph, node, path)\n",
    "    return path"
   ]
  },
  {
   "cell_type": "code",
   "execution_count": 7,
   "metadata": {},
   "outputs": [
    {
     "data": {
      "text/plain": [
       "['A', 'B', 'D', 'E', 'C']"
      ]
     },
     "execution_count": 7,
     "metadata": {},
     "output_type": "execute_result"
    }
   ],
   "source": [
    "graph = { 'A':['B','C'],\n",
    "          'B':['D','E'],\n",
    "          'C':['D','E'],\n",
    "          'D':['E'],\n",
    "          'E':['A']}\n",
    "path = dfs_recursion(graph, start=\"A\", path=[])\n",
    "path  # ['A', 'B', 'D', 'E', 'C']"
   ]
  },
  {
   "cell_type": "markdown",
   "metadata": {},
   "source": [
    "### 1.2. BFS (Breath First Search)"
   ]
  },
  {
   "cell_type": "markdown",
   "metadata": {},
   "source": [
    "#### bfs"
   ]
  },
  {
   "cell_type": "code",
   "execution_count": 8,
   "metadata": {},
   "outputs": [],
   "source": [
    "def bfs(graph, start, path=[]):\n",
    "    assert isinstance(graph, dict)\n",
    "    assert isinstance(start, str)\n",
    "    assert isinstance(path, list)\n",
    "    \n",
    "    queue = [start]\n",
    "    while queue:\n",
    "        v = queue.pop(0)\n",
    "        if v not in path:\n",
    "            path = path + [v]\n",
    "            queue = queue + graph[v]  # The difference with dfs is only here. Note the \"order\".\n",
    "    return path"
   ]
  },
  {
   "cell_type": "code",
   "execution_count": 9,
   "metadata": {},
   "outputs": [
    {
     "data": {
      "text/plain": [
       "['A', 'B', 'C', 'D', 'E']"
      ]
     },
     "execution_count": 9,
     "metadata": {},
     "output_type": "execute_result"
    }
   ],
   "source": [
    "# Test\n",
    "graph = { 'A':['B','C'],\n",
    "          'B':['D','E'],\n",
    "          'C':['D','E'],\n",
    "          'D':['E'],\n",
    "          'E':['A']}\n",
    "path = bfs(graph=graph,  \n",
    "           start='A')  \n",
    "path  # ['A', 'B', 'C', 'D', 'E']"
   ]
  },
  {
   "cell_type": "markdown",
   "metadata": {},
   "source": [
    "#### unittest"
   ]
  },
  {
   "cell_type": "code",
   "execution_count": 10,
   "metadata": {},
   "outputs": [],
   "source": [
    "import unittest\n",
    "\n",
    "graph = { 'A':['B','C'],\n",
    "          'B':['D','E'],\n",
    "          'C':['D','E'],\n",
    "          'D':['E'],\n",
    "          'E':['A']}\n",
    "\n",
    "class BFStest(unittest.TestCase):\n",
    "    def test_bfs(self):\n",
    "        self.assertSequenceEqual(bfs(graph=graph, start='A'), ['A', 'B', 'C', 'D', 'E'])"
   ]
  },
  {
   "cell_type": "code",
   "execution_count": 11,
   "metadata": {},
   "outputs": [
    {
     "name": "stderr",
     "output_type": "stream",
     "text": [
      "..\n",
      "----------------------------------------------------------------------\n",
      "Ran 2 tests in 0.008s\n",
      "\n",
      "OK\n"
     ]
    }
   ],
   "source": [
    "if __name__ == \"__main__\":\n",
    "    unittest.main(argv=['first-arg-is-ignored'], exit=False)"
   ]
  },
  {
   "cell_type": "markdown",
   "metadata": {},
   "source": [
    "### 1.3. find path (using backtracking)"
   ]
  },
  {
   "cell_type": "code",
   "execution_count": 17,
   "metadata": {},
   "outputs": [],
   "source": [
    "# https://www.python.org/doc/essays/graphs/\n",
    "def find_path(graph, start, end, path=[]):\n",
    "    \"\"\"\n",
    "    To find one path from node start to node end\n",
    "    \"\"\"\n",
    "    path = path + [start]\n",
    "    if start == end:\n",
    "        return path\n",
    "    if not start in graph:\n",
    "        return None\n",
    "    for node in graph[start]:\n",
    "        if node not in path:\n",
    "            newpath = find_path(graph, node, end, path)\n",
    "            if newpath: return newpath\n",
    "    return None"
   ]
  },
  {
   "cell_type": "code",
   "execution_count": 18,
   "metadata": {},
   "outputs": [
    {
     "data": {
      "text/plain": [
       "['A', 'B', 'C', 'D']"
      ]
     },
     "execution_count": 18,
     "metadata": {},
     "output_type": "execute_result"
    }
   ],
   "source": [
    "graph = {'A': ['B', 'C'],\n",
    "             'B': ['C', 'D'],\n",
    "             'C': ['D'],\n",
    "             'D': ['C'],\n",
    "             'E': ['F'],\n",
    "             'F': ['C']}\n",
    "\n",
    "path = find_path(graph, start='A', end='D', path=[])\n",
    "path"
   ]
  },
  {
   "cell_type": "markdown",
   "metadata": {},
   "source": [
    "### 1.4. find all paths"
   ]
  },
  {
   "cell_type": "code",
   "execution_count": 19,
   "metadata": {},
   "outputs": [],
   "source": [
    "def find_all_paths(graph, start, end, path=[]):\n",
    "    \"\"\"\n",
    "    To find all possible paths from node start to node end.\n",
    "    \"\"\"\n",
    "    path = path + [start]\n",
    "    if start==end:\n",
    "        return [path]\n",
    "    if start not in graph.keys():\n",
    "        return []\n",
    "    \n",
    "    paths = []\n",
    "    for node in graph[start]:\n",
    "        if node not in path:\n",
    "            newpaths = find_all_paths(graph, node, end, path)\n",
    "            for newpath in newpaths:\n",
    "                paths.append(newpath)\n",
    "    return paths"
   ]
  },
  {
   "cell_type": "code",
   "execution_count": 20,
   "metadata": {},
   "outputs": [
    {
     "data": {
      "text/plain": [
       "[['A', 'B', 'C', 'D'], ['A', 'B', 'D'], ['A', 'C', 'D']]"
      ]
     },
     "execution_count": 20,
     "metadata": {},
     "output_type": "execute_result"
    }
   ],
   "source": [
    "graph = {'A': ['B', 'C'],\n",
    "             'B': ['C', 'D'],\n",
    "             'C': ['D'],\n",
    "             'D': ['C'],\n",
    "             'E': ['F'],\n",
    "             'F': ['C']}\n",
    "\n",
    "paths = find_all_paths(graph, start='A', end='D', path=[])\n",
    "paths"
   ]
  },
  {
   "cell_type": "markdown",
   "metadata": {},
   "source": [
    "### 1.5. find shortest path"
   ]
  },
  {
   "cell_type": "code",
   "execution_count": 21,
   "metadata": {},
   "outputs": [],
   "source": [
    "def find_shortest_path(graph, start, end, path=[]):\n",
    "    \"\"\"\n",
    "    To find a shotest path from node start to node end.\n",
    "    \"\"\"\n",
    "    path = path + [start]\n",
    "    if start==end:\n",
    "        return path\n",
    "    if start not in graph.keys():\n",
    "        return None\n",
    "    \n",
    "    shortest = None\n",
    "    for node in graph[start]:\n",
    "        if node not in path:\n",
    "            newpath = find_shortest_path(graph, node, end, path)\n",
    "            if newpath:\n",
    "                if not shortest or len(shortest) > len(newpath):\n",
    "                    shortest = newpath\n",
    "    return shortest"
   ]
  },
  {
   "cell_type": "code",
   "execution_count": 22,
   "metadata": {},
   "outputs": [
    {
     "data": {
      "text/plain": [
       "['A', 'B', 'D']"
      ]
     },
     "execution_count": 22,
     "metadata": {},
     "output_type": "execute_result"
    }
   ],
   "source": [
    "graph = {'A': ['B', 'C'],\n",
    "         'B': ['C', 'D'],\n",
    "         'C': ['D'],\n",
    "         'D': ['C'],\n",
    "         'E': ['F'],\n",
    "         'F': ['C']}\n",
    "\n",
    "shortest_path = find_shortest_path(graph, start='A', end='D', path=[])\n",
    "shortest_path"
   ]
  },
  {
   "cell_type": "code",
   "execution_count": 56,
   "metadata": {},
   "outputs": [
    {
     "name": "stdout",
     "output_type": "stream",
     "text": [
      "graph =  {'A': ['B', 'D'], 'B': ['C', 'D', 'E'], 'C': ['E'], 'D': ['E', 'F'], 'E': ['F', 'G'], 'F': ['G']}\n",
      "shortest_path: from A to E = ['A', 'B', 'E']\n",
      "shortest_path: from F to G = ['F', 'G']\n"
     ]
    }
   ],
   "source": [
    "edges = [\n",
    "        (\"A\", \"B\"),\n",
    "        (\"A\", \"D\"),\n",
    "        (\"B\", \"C\"),\n",
    "        (\"B\", \"D\"),\n",
    "        (\"B\", \"E\"),\n",
    "        (\"C\", \"E\"),\n",
    "        (\"D\", \"E\"),\n",
    "        (\"D\", \"F\"),\n",
    "        (\"E\", \"F\"),\n",
    "        (\"E\", \"G\"),\n",
    "        (\"F\", \"G\")\n",
    "    ]\n",
    "from collections import defaultdict\n",
    "graph = defaultdict(list)\n",
    "for k, v in edges:\n",
    "    graph[k].append(v)\n",
    "    \n",
    "graph = dict(graph)\n",
    "print(\"graph = \", graph)\n",
    "print(\"shortest_path: from A to E =\", find_shortest_path(graph, start='A', end='E'))\n",
    "print(\"shortest_path: from F to G =\", find_shortest_path(graph, start='F', end='G'))     "
   ]
  },
  {
   "cell_type": "markdown",
   "metadata": {},
   "source": [
    "### 1.6. Making a graph as a dict-like object"
   ]
  },
  {
   "cell_type": "code",
   "execution_count": 41,
   "metadata": {},
   "outputs": [
    {
     "name": "stdout",
     "output_type": "stream",
     "text": [
      "edged = [('A', 'B', 2), ('A', 'D', 4), ('B', 'C', 5), ('B', 'D', 1), ('B', 'E', 7), ('C', 'E', 10)] \n",
      "graph = {'A': [{'B': 2}, {'D': 4}], 'B': [{'C': 5}, {'D': 1}, {'E': 7}], 'C': [{'E': 10}]}\n",
      "get edges back from graph =  [('A', 'B', 2), ('A', 'D', 4), ('B', 'C', 5), ('B', 'D', 1), ('B', 'E', 7), ('C', 'E', 10)]\n"
     ]
    }
   ],
   "source": [
    "\"\"\"\n",
    "To transform list of tuple to list of dics and vice versa\n",
    "\"\"\"\n",
    "from collections import defaultdict\n",
    "\n",
    "# In this case, each edge has a different weight\n",
    "# To find a shortest path where each edge has weight --> Use dijkstra algo.\n",
    "edges = [('A', 'B', 2),\n",
    "         ('A', 'D', 4),\n",
    "         ('B', 'C', 5),\n",
    "         ('B', 'D', 1),\n",
    "         ('B', 'E', 7),\n",
    "         ('C', 'E', 10)]\n",
    "\n",
    "graph = defaultdict(list)\n",
    "for k, v, w in edges:\n",
    "    graph[k].append({v:w})\n",
    "    \n",
    "# Change to Python dict if needed\n",
    "graph = dict(graph) \n",
    "\n",
    "print(\"edged = {} \\ngraph = {}\".format(edges, graph))\n",
    "\n",
    "# Changing graph back to list of tuple\n",
    "_edges = []\n",
    "for k, dics in graph.items():\n",
    "    for dic in dics:\n",
    "        for v, w in dic.items():\n",
    "            _edges.append((k, v , w))\n",
    "print('get edges back from graph = ', _edges)"
   ]
  },
  {
   "cell_type": "markdown",
   "metadata": {},
   "source": [
    "### 1.7. dijkstra algorithm to find a shortest path of a \"weighted\" graph"
   ]
  },
  {
   "cell_type": "code",
   "execution_count": 44,
   "metadata": {},
   "outputs": [],
   "source": [
    "from collections import defaultdict\n",
    "from heapq import *\n",
    "\n",
    "def dijkstra(edges, f, t):\n",
    "    g = defaultdict(list)\n",
    "    for l,r,c in edges:\n",
    "        g[l].append((c,r))\n",
    "\n",
    "    q, seen, mins = [(0,f,())], set(), {f: 0}\n",
    "    while q:\n",
    "        (cost,v1,path) = heappop(q)\n",
    "        if v1 not in seen:\n",
    "            seen.add(v1)\n",
    "            path = (v1, path)\n",
    "            if v1 == t: return (cost, path)\n",
    "\n",
    "            for c, v2 in g.get(v1, ()):\n",
    "                if v2 in seen: continue\n",
    "                prev = mins.get(v2, None)\n",
    "                next = cost + c\n",
    "                if prev is None or next < prev:\n",
    "                    mins[v2] = next\n",
    "                    heappush(q, (next, v2, path))\n",
    "\n",
    "    return float(\"inf\")"
   ]
  },
  {
   "cell_type": "code",
   "execution_count": 48,
   "metadata": {},
   "outputs": [
    {
     "name": "stdout",
     "output_type": "stream",
     "text": [
      "A -> E:\n",
      "(14, ('E', ('B', ('A', ()))))\n",
      "F -> G:\n",
      "(11, ('G', ('F', ())))\n"
     ]
    }
   ],
   "source": [
    "edges = [\n",
    "        (\"A\", \"B\", 7),\n",
    "        (\"A\", \"D\", 5),\n",
    "        (\"B\", \"C\", 8),\n",
    "        (\"B\", \"D\", 9),\n",
    "        (\"B\", \"E\", 7),\n",
    "        (\"C\", \"E\", 5),\n",
    "        (\"D\", \"E\", 15),\n",
    "        (\"D\", \"F\", 6),\n",
    "        (\"E\", \"F\", 8),\n",
    "        (\"E\", \"G\", 9),\n",
    "        (\"F\", \"G\", 11)\n",
    "    ]\n",
    "\n",
    "print (\"A -> E:\")\n",
    "print (dijkstra(edges, \"A\", \"E\"))\n",
    "print (\"F -> G:\")\n",
    "print (dijkstra(edges, \"F\", \"G\"))"
   ]
  },
  {
   "cell_type": "code",
   "execution_count": 50,
   "metadata": {},
   "outputs": [],
   "source": [
    "def dijkstra_revised(edges, f, t):\n",
    "    g = defaultdict(list)\n",
    "    for l,r,c in edges:\n",
    "        g[l].append((c,r))\n",
    "\n",
    "    # dist records the min value of each node in heap.\n",
    "    q, seen, dist = [(0,f,())], set(), {f: 0}\n",
    "    while q:\n",
    "        (cost,v1,path) = heappop(q)\n",
    "        if v1 in seen: continue\n",
    "\n",
    "        seen.add(v1)\n",
    "        path += (v1,)\n",
    "        if v1 == t: return (cost, path)\n",
    "\n",
    "        for c, v2 in g.get(v1, ()):\n",
    "            if v2 in seen: continue\n",
    "\n",
    "            # Not every edge will be calculated. The edge which can improve the value of node in heap will be useful.\n",
    "            if v2 not in dist or cost+c < dist[v2]:\n",
    "                dist[v2] = cost+c\n",
    "                heappush(q, (cost+c, v2, path))\n",
    "\n",
    "    return float(\"inf\")"
   ]
  },
  {
   "cell_type": "code",
   "execution_count": 58,
   "metadata": {},
   "outputs": [
    {
     "name": "stdout",
     "output_type": "stream",
     "text": [
      "A -> E:\n",
      "(14, ('A', 'B', 'E'))\n",
      "F -> G:\n",
      "(11, ('F', 'G'))\n"
     ]
    }
   ],
   "source": [
    "edges = [\n",
    "        (\"A\", \"B\", 7),\n",
    "        (\"A\", \"D\", 5),\n",
    "        (\"B\", \"C\", 8),\n",
    "        (\"B\", \"D\", 9),\n",
    "        (\"B\", \"E\", 7),\n",
    "        (\"C\", \"E\", 5),\n",
    "        (\"D\", \"E\", 15),\n",
    "        (\"D\", \"F\", 6),\n",
    "        (\"E\", \"F\", 8),\n",
    "        (\"E\", \"G\", 9),\n",
    "        (\"F\", \"G\", 11)\n",
    "    ]\n",
    "print (\"A -> E:\")\n",
    "print (dijkstra_revised(edges, \"A\", \"E\"))\n",
    "print (\"F -> G:\")\n",
    "print (dijkstra_revised(edges, \"F\", \"G\"))"
   ]
  },
  {
   "cell_type": "markdown",
   "metadata": {},
   "source": [
    "## 2. Graph with networkx"
   ]
  },
  {
   "cell_type": "markdown",
   "metadata": {},
   "source": [
    "> We can use networkx library to work and visualize graph  \n",
    "> Ref: https://networkx.github.io/documentation/stable/tutorial.html"
   ]
  },
  {
   "cell_type": "code",
   "execution_count": 59,
   "metadata": {},
   "outputs": [],
   "source": [
    "import networkx as nx\n",
    "import matplotlib.pyplot as plt"
   ]
  },
  {
   "cell_type": "code",
   "execution_count": 60,
   "metadata": {},
   "outputs": [
    {
     "name": "stdout",
     "output_type": "stream",
     "text": [
      "nodes of G1 =  ['A', 'B', 'C', 'D', 'E']\n",
      "edges of G1 =  [('A', 'B'), ('A', 'C'), ('A', 'E'), ('B', 'D'), ('B', 'E'), ('C', 'D'), ('C', 'E'), ('D', 'E')]\n"
     ]
    },
    {
     "data": {
      "image/png": "[encoded data removed]",
      "text/plain": [
       "<Figure size 432x288 with 2 Axes>"
      ]
     },
     "metadata": {},
     "output_type": "display_data"
    }
   ],
   "source": [
    "graph1 = { 'A':['B','C'],\n",
    "          'B':['D','E'],\n",
    "          'C':['D','E'],\n",
    "          'D':['E'],\n",
    "          'E':['A']}\n",
    "\n",
    "graph2 = {'A': ['B', 'C'],\n",
    "         'B': ['C', 'D'],\n",
    "         'C': ['D'],\n",
    "         'D': ['C'],\n",
    "         'E': ['F'],\n",
    "         'F': ['C']}\n",
    "\n",
    "# Change graph to G in networkx\n",
    "G1 = nx.Graph(graph1)\n",
    "print(\"nodes of G1 = \", G1.nodes())\n",
    "print('edges of G1 = ', G1.edges())\n",
    "#nx.draw(G1)\n",
    "G2 = nx.Graph(graph2)\n",
    "\n",
    "plt.subplot(121)  #  (121) means: row=1, col=2 at first supplot\n",
    "nx.draw(G1, with_labels=True, font_size=16, font_weight='bold')\n",
    "plt.subplot(122)\n",
    "nx.draw(G2, with_labels=True, font_size=16, font_weight='bold')\n",
    "#plt.show()"
   ]
  },
  {
   "cell_type": "markdown",
   "metadata": {},
   "source": [
    "## 3. Tree"
   ]
  },
  {
   "cell_type": "markdown",
   "metadata": {},
   "source": [
    "``` Tree is just a specific case of graph ```"
   ]
  },
  {
   "cell_type": "markdown",
   "metadata": {},
   "source": [
    "### 3.1. Create a generic tree"
   ]
  },
  {
   "cell_type": "code",
   "execution_count": 75,
   "metadata": {},
   "outputs": [
    {
     "name": "stdout",
     "output_type": "stream",
     "text": [
      "nodes of G =  ['A', 'A1', 'A2', 'A11', 'A12', 'A21', 'A22']\n",
      "edges of G =  [('A', 'A1'), ('A', 'A2'), ('A1', 'A11'), ('A1', 'A12'), ('A2', 'A21'), ('A2', 'A22')]\n"
     ]
    },
    {
     "data": {
      "image/png": "[encoded data removed]",
      "text/plain": [
       "<Figure size 432x288 with 1 Axes>"
      ]
     },
     "metadata": {},
     "output_type": "display_data"
    }
   ],
   "source": [
    "# Using list of tuple.\n",
    "# Ex. a binary tree\n",
    "import networkx as nx\n",
    "import matplotlib.pyplot as plt\n",
    "\n",
    "edges_of_tree = [('A', 'A1'), ('A', 'A2'), ('A1', 'A11'), ('A1', 'A12'), ('A2', 'A21'), ('A2', 'A22')]\n",
    "\n",
    "# Change graph to G in networkx\n",
    "G = nx.Graph(edges_of_tree)\n",
    "print(\"nodes of G = \", G.nodes())\n",
    "print('edges of G = ', G.edges())\n",
    "nx.draw(G, with_labels=True, node_size=1200, font_size=16, font_weight='bold')"
   ]
  },
  {
   "cell_type": "code",
   "execution_count": 65,
   "metadata": {},
   "outputs": [],
   "source": [
    "class Tree:\n",
    "    def __init__(self, name='root', children=None):\n",
    "        self.name = name\n",
    "        self.children = []\n",
    "        if children:\n",
    "            for child in children:\n",
    "                self.add_child(child)\n",
    "\n",
    "    def add_child(self, node):\n",
    "        assert isinstance(node, Tree)\n",
    "        self.children.append(node)\n",
    "        \n",
    "    def __repr__(self):\n",
    "        return self.name"
   ]
  },
  {
   "cell_type": "code",
   "execution_count": 76,
   "metadata": {},
   "outputs": [],
   "source": [
    "tree = Tree('A', [Tree('A1'),\n",
    "                  Tree('A2'),\n",
    "                  Tree('A3', [Tree('3.1'),\n",
    "                             Tree('3.2')])])"
   ]
  },
  {
   "cell_type": "markdown",
   "metadata": {},
   "source": [
    "### 3.2. Find a root of a tree in a dict-like tree (graph)"
   ]
  },
  {
   "cell_type": "code",
   "execution_count": 88,
   "metadata": {},
   "outputs": [
    {
     "name": "stdout",
     "output_type": "stream",
     "text": [
      "tree =  {'A1': ['A11', 'A12'], 'A': ['A2', 'A1'], 'A2': ['A21', 'A22']}\n",
      "root =  A\n"
     ]
    }
   ],
   "source": [
    "from collections import defaultdict\n",
    "\n",
    "# Given a list of tuple not in the order\n",
    "edges_of_tree = [('A1', 'A11'), ('A', 'A2'),('A1', 'A12'), ('A2', 'A21'), ('A', 'A1'), ('A2', 'A22')]\n",
    "\n",
    "tree = defaultdict(list)\n",
    "for k, v in edges_of_tree:\n",
    "    tree[k].append(v)\n",
    "    \n",
    "tree = dict(tree)\n",
    "print(\"tree = \", tree)\n",
    "\n",
    "# Find a root of this tree\n",
    "def find_root(tree):\n",
    "    node = list(tree.keys())[0] # Choose a random node, here choose first key\n",
    "    found = False\n",
    "    while not found:\n",
    "        found = True\n",
    "        for k, v in graph.items():\n",
    "            if node in v:\n",
    "                node = k\n",
    "                found = False\n",
    "    return node\n",
    "\n",
    "print('root = ', find_root(tree))"
   ]
  },
  {
   "cell_type": "markdown",
   "metadata": {},
   "source": [
    "## 4. Hashtable - Python dict"
   ]
  },
  {
   "cell_type": "markdown",
   "metadata": {},
   "source": [
    "> Hash table stores key-value pairs but the key is generated through a hashing function.  \n",
    "> Python dict represent the implementation of hash tables.  \n",
    "> https://en.wikipedia.org/wiki/Hash_table  \n",
    "> https://stackoverflow.com/questions/114830/is-a-python-dictionary-an-example-of-a-hash-table  \n",
    "> https://dbader.org/blog/python-dictionaries-maps-and-hashtables  "
   ]
  },
  {
   "cell_type": "code",
   "execution_count": null,
   "metadata": {},
   "outputs": [],
   "source": [
    "dic = { 1.1: 'a', 4504.1: 'b' }\n",
    "for k, v in dic.items():\n",
    "    print('k={} with hash={}'.format(k, hash(k)))    "
   ]
  },
  {
   "cell_type": "code",
   "execution_count": null,
   "metadata": {},
   "outputs": [],
   "source": [
    "# Ordered dict\n",
    "import collections\n",
    "d = collections.OrderedDict(One=1, Two=2, Three=3)\n",
    "d['Four'] = 4\n",
    "d"
   ]
  },
  {
   "cell_type": "code",
   "execution_count": null,
   "metadata": {},
   "outputs": [],
   "source": [
    "# defaultdict: one way to make a graph\n",
    "from collections import defaultdict\n",
    "dd = defaultdict(list)\n",
    "dd['A'].append('B')\n",
    "dd['A'].append('C')\n",
    "dd['A'].append('D')\n",
    "dd"
   ]
  },
  {
   "cell_type": "code",
   "execution_count": null,
   "metadata": {},
   "outputs": [],
   "source": [
    "# chainmap\n",
    "from collections import ChainMap\n",
    "dict1 = {'A': 1, 'B': 2}\n",
    "dict2 = {'C': 3, 'D': 4}\n",
    "chain = ChainMap(dict1, dict2)\n",
    "print('chain = ', chain)\n",
    "print(\"chain['C'] = \", chain['C'])\n",
    "#print(\"chain['not_existed_key'] = \", chain['not_existed_key'])"
   ]
  },
  {
   "cell_type": "code",
   "execution_count": null,
   "metadata": {},
   "outputs": [],
   "source": [
    "# hash table\n",
    "# map(hash, (0, 1, 2, 3)) # <map at 0x25123fa048>\n",
    "list(map(hash, (0, 1, 2, 3)))"
   ]
  },
  {
   "cell_type": "code",
   "execution_count": null,
   "metadata": {},
   "outputs": [],
   "source": [
    "list(map(hash, (\"A\", \"B\", \"AB\", \"BB\")))"
   ]
  },
  {
   "cell_type": "code",
   "execution_count": null,
   "metadata": {},
   "outputs": [],
   "source": [
    "# Just example to see how hash and dict work\n",
    "dict_hash = {hash(v): v for v in (\"A\", \"B\", \"AB\", \"BB\")}\n",
    "print(\"dict_hash = \", dict_hash)\n",
    "# Now to find AB\n",
    "hash_finding = hash('AB')\n",
    "found = dict_hash[hash_finding]\n",
    "print('found = ', found)"
   ]
  },
  {
   "cell_type": "code",
   "execution_count": null,
   "metadata": {},
   "outputs": [],
   "source": []
  }
 ],
 "metadata": {
  "kernelspec": {
   "display_name": "Python 3",
   "language": "python",
   "name": "python3"
  },
  "language_info": {
   "codemirror_mode": {
    "name": "ipython",
    "version": 3
   },
   "file_extension": ".py",
   "mimetype": "text/x-python",
   "name": "python",
   "nbconvert_exporter": "python",
   "pygments_lexer": "ipython3",
   "version": "3.6.5"
  }
 },
 "nbformat": 4,
 "nbformat_minor": 2
}
