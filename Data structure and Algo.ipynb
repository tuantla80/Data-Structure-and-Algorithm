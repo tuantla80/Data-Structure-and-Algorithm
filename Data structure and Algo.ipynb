{
 "cells": [
  {
   "cell_type": "markdown",
   "metadata": {},
   "source": [
    "# Data structure and Algo in Pythonic code"
   ]
  },
  {
   "cell_type": "markdown",
   "metadata": {},
   "source": [
    "## 1. Graph"
   ]
  },
  {
   "cell_type": "markdown",
   "metadata": {},
   "source": [
    "### 1.1. DFS (Depth First Search)"
   ]
  },
  {
   "cell_type": "markdown",
   "metadata": {},
   "source": [
    "#### DFS"
   ]
  },
  {
   "cell_type": "code",
   "execution_count": 1,
   "metadata": {},
   "outputs": [],
   "source": [
    "def dfs(graph, start, path=[]):\n",
    "    \"\"\"\n",
    "    Assuming the graph is as below (for visualization using networkx, refer to the part 2 of this Jupyter Notebook):\n",
    "        A\n",
    "      /   \\\n",
    "      B--D--C\n",
    "       \\ | /\n",
    "         E\n",
    "    \n",
    "    graph = {'A':['B','C'],'B':['D','E'],'C':['D','E'],'D':['E'],'E':['A']}\n",
    "    \n",
    "    The handwriting (or we can print() at code):\n",
    "    Step 1: Initialization\n",
    "            graph = {'A':['B','C'],'B':['D','E'],'C':['D','E'],'D':['E'],'E':['A']}\n",
    "            start = 'A'\n",
    "            path=[]\n",
    "            stack = [start] # = 'A'\n",
    "    Step 2: v = 'A'\n",
    "            stack = []\n",
    "            path = ['A']\n",
    "            stack = ['B', 'C']\n",
    "    Step 3: v = ['B']\n",
    "            stack = ['C']\n",
    "            path = ['A', 'B']\n",
    "            stack = ['D', 'E', 'C']  # Note the order of stack\n",
    "    Step 4: v = 'D'\n",
    "            stack = ['E', 'C']\n",
    "            path = ['A', 'B', 'D']\n",
    "            stack = ['E', 'E', 'C']  # Note the order of stack\n",
    "    Step 5: v = 'E'\n",
    "            stack = ['E', 'C']\n",
    "            path = ['A', 'B', 'D', 'E']\n",
    "            stack = ['A', 'E', 'C']\n",
    "    Step 6: v = 'A'\n",
    "            stack = ['E', 'C']\n",
    "            Others not change\n",
    "    Step 7: v = 'E'\n",
    "            stack = ['C']\n",
    "            Others not change\n",
    "    Step 8: v = 'C'\n",
    "            stack = []\n",
    "            path = ['A', 'B', 'D', 'E', 'C']\n",
    "            stack = ['D', 'E']\n",
    "    Step 9: v = 'D'\n",
    "            stack = ['E']\n",
    "            Others not change\n",
    "    Step 10: v = 'E'\n",
    "            stack = []\n",
    "            Others not change\n",
    "    Finish       \n",
    "    \"\"\"\n",
    "    assert isinstance(graph, dict)\n",
    "    assert isinstance(start, str)\n",
    "    assert isinstance(path, list)\n",
    "    \n",
    "    stack = [start]\n",
    "    while stack:\n",
    "        v = stack.pop(0)\n",
    "        if v not in path:\n",
    "            path = path + [v]\n",
    "            stack = graph[v] + stack\n",
    "    return path"
   ]
  },
  {
   "cell_type": "code",
   "execution_count": 2,
   "metadata": {},
   "outputs": [
    {
     "data": {
      "text/plain": [
       "['A', 'B', 'D', 'E', 'C']"
      ]
     },
     "execution_count": 2,
     "metadata": {},
     "output_type": "execute_result"
    }
   ],
   "source": [
    "# Test\n",
    "graph = { 'A':['B','C'],\n",
    "          'B':['D','E'],\n",
    "          'C':['D','E'],\n",
    "          'D':['E'],\n",
    "          'E':['A']}\n",
    "path = dfs(graph=graph, \n",
    "           start='A')  \n",
    "path  # ['A', 'B', 'D', 'E', 'C']"
   ]
  },
  {
   "cell_type": "markdown",
   "metadata": {},
   "source": [
    "#### unittest"
   ]
  },
  {
   "cell_type": "code",
   "execution_count": 3,
   "metadata": {},
   "outputs": [],
   "source": [
    "import unittest"
   ]
  },
  {
   "cell_type": "code",
   "execution_count": 4,
   "metadata": {},
   "outputs": [],
   "source": [
    "graph = { 'A':['B','C'],\n",
    "          'B':['D','E'],\n",
    "          'C':['D','E'],\n",
    "          'D':['E'],\n",
    "          'E':['A']}\n",
    "\n",
    "class DFStest(unittest.TestCase):\n",
    "    def test_dfs(self):\n",
    "        self.assertSequenceEqual(dfs(graph, start=\"A\", path=[]), ['A', 'B', 'D', 'E', 'C'])"
   ]
  },
  {
   "cell_type": "code",
   "execution_count": 5,
   "metadata": {},
   "outputs": [
    {
     "name": "stderr",
     "output_type": "stream",
     "text": [
      ".\n",
      "----------------------------------------------------------------------\n",
      "Ran 1 test in 0.024s\n",
      "\n",
      "OK\n"
     ]
    }
   ],
   "source": [
    "if __name__ == '__main__':\n",
    "    unittest.main(argv=['first-arg-is-ignored'], exit=False)"
   ]
  },
  {
   "cell_type": "markdown",
   "metadata": {},
   "source": [
    "#### dfs (recursion)"
   ]
  },
  {
   "cell_type": "code",
   "execution_count": 6,
   "metadata": {},
   "outputs": [],
   "source": [
    "def dfs_recursion(graph, start, path=[]):\n",
    "    assert isinstance(graph, dict)\n",
    "    assert isinstance(start, str)\n",
    "    assert isinstance(path, list)\n",
    "    \n",
    "    path = path + [start]\n",
    "    for node in graph[start]:\n",
    "        if not node in path:\n",
    "            path = dfs_recursion(graph, node, path)\n",
    "    return path"
   ]
  },
  {
   "cell_type": "code",
   "execution_count": 7,
   "metadata": {},
   "outputs": [
    {
     "data": {
      "text/plain": [
       "['A', 'B', 'D', 'E', 'C']"
      ]
     },
     "execution_count": 7,
     "metadata": {},
     "output_type": "execute_result"
    }
   ],
   "source": [
    "graph = { 'A':['B','C'],\n",
    "          'B':['D','E'],\n",
    "          'C':['D','E'],\n",
    "          'D':['E'],\n",
    "          'E':['A']}\n",
    "path = dfs_recursion(graph, start=\"A\", path=[])\n",
    "path  # ['A', 'B', 'D', 'E', 'C']"
   ]
  },
  {
   "cell_type": "markdown",
   "metadata": {},
   "source": [
    "### 1.2. BFS (Breath First Search)"
   ]
  },
  {
   "cell_type": "markdown",
   "metadata": {},
   "source": [
    "#### bfs"
   ]
  },
  {
   "cell_type": "code",
   "execution_count": 8,
   "metadata": {},
   "outputs": [],
   "source": [
    "def bfs(graph, start, path=[]):\n",
    "    assert isinstance(graph, dict)\n",
    "    assert isinstance(start, str)\n",
    "    assert isinstance(path, list)\n",
    "    \n",
    "    queue = [start]\n",
    "    while queue:\n",
    "        v = queue.pop(0)\n",
    "        if v not in path:\n",
    "            path = path + [v]\n",
    "            queue = queue + graph[v]  # The difference with dfs is only here. Note the \"order\".\n",
    "    return path"
   ]
  },
  {
   "cell_type": "code",
   "execution_count": 9,
   "metadata": {},
   "outputs": [
    {
     "data": {
      "text/plain": [
       "['A', 'B', 'C', 'D', 'E']"
      ]
     },
     "execution_count": 9,
     "metadata": {},
     "output_type": "execute_result"
    }
   ],
   "source": [
    "# Test\n",
    "graph = { 'A':['B','C'],\n",
    "          'B':['D','E'],\n",
    "          'C':['D','E'],\n",
    "          'D':['E'],\n",
    "          'E':['A']}\n",
    "path = bfs(graph=graph,  \n",
    "           start='A')  \n",
    "path  # ['A', 'B', 'C', 'D', 'E']"
   ]
  },
  {
   "cell_type": "markdown",
   "metadata": {},
   "source": [
    "#### unittest"
   ]
  },
  {
   "cell_type": "code",
   "execution_count": 10,
   "metadata": {},
   "outputs": [],
   "source": [
    "import unittest\n",
    "\n",
    "graph = { 'A':['B','C'],\n",
    "          'B':['D','E'],\n",
    "          'C':['D','E'],\n",
    "          'D':['E'],\n",
    "          'E':['A']}\n",
    "\n",
    "class BFStest(unittest.TestCase):\n",
    "    def test_bfs(self):\n",
    "        self.assertSequenceEqual(bfs(graph=graph, start='A'), ['A', 'B', 'C', 'D', 'E'])"
   ]
  },
  {
   "cell_type": "code",
   "execution_count": 11,
   "metadata": {},
   "outputs": [
    {
     "name": "stderr",
     "output_type": "stream",
     "text": [
      "..\n",
      "----------------------------------------------------------------------\n",
      "Ran 2 tests in 0.006s\n",
      "\n",
      "OK\n"
     ]
    }
   ],
   "source": [
    "if __name__ == \"__main__\":\n",
    "    unittest.main(argv=['first-arg-is-ignored'], exit=False)"
   ]
  },
  {
   "cell_type": "markdown",
   "metadata": {},
   "source": [
    "### 1.3. Backtracking"
   ]
  },
  {
   "cell_type": "code",
   "execution_count": 12,
   "metadata": {},
   "outputs": [],
   "source": [
    "# https://www.python.org/doc/essays/graphs/\n",
    "def find_path(graph, start, end, path=[]):\n",
    "        path = path + [start]\n",
    "        if start == end:\n",
    "            return path\n",
    "        if not start in graph:\n",
    "            return None\n",
    "        for node in graph[start]:\n",
    "            if node not in path:\n",
    "                newpath = find_path(graph, node, end, path)\n",
    "                if newpath: return newpath\n",
    "        return None"
   ]
  },
  {
   "cell_type": "code",
   "execution_count": 13,
   "metadata": {},
   "outputs": [
    {
     "data": {
      "text/plain": [
       "['A', 'B', 'C', 'D']"
      ]
     },
     "execution_count": 13,
     "metadata": {},
     "output_type": "execute_result"
    }
   ],
   "source": [
    "graph = {'A': ['B', 'C'],\n",
    "             'B': ['C', 'D'],\n",
    "             'C': ['D'],\n",
    "             'D': ['C'],\n",
    "             'E': ['F'],\n",
    "             'F': ['C']}\n",
    "\n",
    "path = find_path(graph, start='A', end='D', path=[])\n",
    "path"
   ]
  },
  {
   "cell_type": "code",
   "execution_count": null,
   "metadata": {},
   "outputs": [],
   "source": []
  },
  {
   "cell_type": "markdown",
   "metadata": {},
   "source": [
    "## 2. Graph with networkx"
   ]
  },
  {
   "cell_type": "markdown",
   "metadata": {},
   "source": [
    "> We can use networkx library to work and visualize graph  \n",
    "> Ref: https://networkx.github.io/documentation/stable/tutorial.html"
   ]
  },
  {
   "cell_type": "code",
   "execution_count": 14,
   "metadata": {},
   "outputs": [],
   "source": [
    "import networkx as nx\n",
    "import matplotlib.pyplot as plt"
   ]
  },
  {
   "cell_type": "code",
   "execution_count": 15,
   "metadata": {},
   "outputs": [
    {
     "name": "stdout",
     "output_type": "stream",
     "text": [
      "nodes of G1 =  ['A', 'B', 'C', 'D', 'E']\n",
      "edges of G1 =  [('A', 'B'), ('A', 'C'), ('A', 'E'), ('B', 'D'), ('B', 'E'), ('C', 'D'), ('C', 'E'), ('D', 'E')]\n"
     ]
    },
    {
     "name": "stderr",
     "output_type": "stream",
     "text": [
      "C:\\ProgramData\\Anaconda3\\lib\\site-packages\\networkx\\drawing\\nx_pylab.py:611: MatplotlibDeprecationWarning: isinstance(..., numbers.Number)\n",
      "  if cb.is_numlike(alpha):\n"
     ]
    },
    {
     "data": {
      "image/png": "[encoded data removed]",
      "text/plain": [
       "<Figure size 432x288 with 2 Axes>"
      ]
     },
     "metadata": {},
     "output_type": "display_data"
    }
   ],
   "source": [
    "graph1 = { 'A':['B','C'],\n",
    "          'B':['D','E'],\n",
    "          'C':['D','E'],\n",
    "          'D':['E'],\n",
    "          'E':['A']}\n",
    "\n",
    "graph2 = {'A': ['B', 'C'],\n",
    "         'B': ['C', 'D'],\n",
    "         'C': ['D'],\n",
    "         'D': ['C'],\n",
    "         'E': ['F'],\n",
    "         'F': ['C']}\n",
    "\n",
    "# Change graph to G in networkx\n",
    "G1 = nx.Graph(graph1)\n",
    "print(\"nodes of G1 = \", G1.nodes())\n",
    "print('edges of G1 = ', G1.edges())\n",
    "#nx.draw(G1)\n",
    "G2 = nx.Graph(graph2)\n",
    "\n",
    "plt.subplot(121)  #  (121) means: row=1, col=2 at first supplot\n",
    "nx.draw(G1, with_labels=True, font_size=16, font_weight='bold')\n",
    "plt.subplot(122)\n",
    "nx.draw(G2, with_labels=True, font_size=16, font_weight='bold')\n",
    "#plt.show()"
   ]
  },
  {
   "cell_type": "markdown",
   "metadata": {},
   "source": [
    "## 3. Hashtable - Python dict"
   ]
  },
  {
   "cell_type": "markdown",
   "metadata": {},
   "source": [
    "> Hash table stores key-value pairs but the key is generated through a hashing function.  \n",
    "> Python dict represent the implementation of hash tables.  \n",
    "> https://en.wikipedia.org/wiki/Hash_table  \n",
    "> https://stackoverflow.com/questions/114830/is-a-python-dictionary-an-example-of-a-hash-table  \n",
    "> https://dbader.org/blog/python-dictionaries-maps-and-hashtables  "
   ]
  },
  {
   "cell_type": "code",
   "execution_count": 16,
   "metadata": {},
   "outputs": [
    {
     "name": "stdout",
     "output_type": "stream",
     "text": [
      "k=1.1 with hash=230584300921369601\n",
      "k=4504.1 with hash=230584300922212760\n"
     ]
    }
   ],
   "source": [
    "dic = { 1.1: 'a', 4504.1: 'b' }\n",
    "for k, v in dic.items():\n",
    "    print('k={} with hash={}'.format(k, hash(k)))    "
   ]
  },
  {
   "cell_type": "code",
   "execution_count": 17,
   "metadata": {},
   "outputs": [
    {
     "data": {
      "text/plain": [
       "OrderedDict([('One', 1), ('Two', 2), ('Three', 3), ('Four', 4)])"
      ]
     },
     "execution_count": 17,
     "metadata": {},
     "output_type": "execute_result"
    }
   ],
   "source": [
    "# Ordered dict\n",
    "import collections\n",
    "d = collections.OrderedDict(One=1, Two=2, Three=3)\n",
    "d['Four'] = 4\n",
    "d"
   ]
  },
  {
   "cell_type": "code",
   "execution_count": 18,
   "metadata": {},
   "outputs": [
    {
     "data": {
      "text/plain": [
       "defaultdict(list, {'A': ['B', 'C', 'D']})"
      ]
     },
     "execution_count": 18,
     "metadata": {},
     "output_type": "execute_result"
    }
   ],
   "source": [
    "# defaultdict: one way to make a graph\n",
    "from collections import defaultdict\n",
    "dd = defaultdict(list)\n",
    "dd['A'].append('B')\n",
    "dd['A'].append('C')\n",
    "dd['A'].append('D')\n",
    "dd"
   ]
  },
  {
   "cell_type": "code",
   "execution_count": 19,
   "metadata": {},
   "outputs": [
    {
     "name": "stdout",
     "output_type": "stream",
     "text": [
      "chain =  ChainMap({'A': 1, 'B': 2}, {'C': 3, 'D': 4})\n",
      "chain['C'] =  3\n"
     ]
    }
   ],
   "source": [
    "# chainmap\n",
    "from collections import ChainMap\n",
    "dict1 = {'A': 1, 'B': 2}\n",
    "dict2 = {'C': 3, 'D': 4}\n",
    "chain = ChainMap(dict1, dict2)\n",
    "print('chain = ', chain)\n",
    "print(\"chain['C'] = \", chain['C'])\n",
    "#print(\"chain['not_existed_key'] = \", chain['not_existed_key'])"
   ]
  },
  {
   "cell_type": "code",
   "execution_count": 20,
   "metadata": {},
   "outputs": [
    {
     "data": {
      "text/plain": [
       "[0, 1, 2, 3]"
      ]
     },
     "execution_count": 20,
     "metadata": {},
     "output_type": "execute_result"
    }
   ],
   "source": [
    "# hash table\n",
    "# map(hash, (0, 1, 2, 3)) # <map at 0x25123fa048>\n",
    "list(map(hash, (0, 1, 2, 3)))"
   ]
  },
  {
   "cell_type": "code",
   "execution_count": 21,
   "metadata": {},
   "outputs": [
    {
     "data": {
      "text/plain": [
       "[5751814599317588533,\n",
       " -7825015170938777119,\n",
       " 6921688447168211877,\n",
       " -3957547756855123487]"
      ]
     },
     "execution_count": 21,
     "metadata": {},
     "output_type": "execute_result"
    }
   ],
   "source": [
    "list(map(hash, (\"A\", \"B\", \"AB\", \"BB\")))"
   ]
  },
  {
   "cell_type": "code",
   "execution_count": 22,
   "metadata": {},
   "outputs": [
    {
     "name": "stdout",
     "output_type": "stream",
     "text": [
      "dict_hash =  {5751814599317588533: 'A', -7825015170938777119: 'B', 6921688447168211877: 'AB', -3957547756855123487: 'BB'}\n",
      "found =  AB\n"
     ]
    }
   ],
   "source": [
    "# Just example to see how hash and dict work\n",
    "dict_hash = {hash(v): v for v in (\"A\", \"B\", \"AB\", \"BB\")}\n",
    "print(\"dict_hash = \", dict_hash)\n",
    "# Now to find AB\n",
    "hash_finding = hash('AB')\n",
    "found = dict_hash[hash_finding]\n",
    "print('found = ', found)"
   ]
  },
  {
   "cell_type": "code",
   "execution_count": null,
   "metadata": {},
   "outputs": [],
   "source": []
  }
 ],
 "metadata": {
  "kernelspec": {
   "display_name": "Python 3",
   "language": "python",
   "name": "python3"
  },
  "language_info": {
   "codemirror_mode": {
    "name": "ipython",
    "version": 3
   },
   "file_extension": ".py",
   "mimetype": "text/x-python",
   "name": "python",
   "nbconvert_exporter": "python",
   "pygments_lexer": "ipython3",
   "version": "3.7.3"
  }
 },
 "nbformat": 4,
 "nbformat_minor": 2
}
