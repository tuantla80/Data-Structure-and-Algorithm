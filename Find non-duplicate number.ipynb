{
 "cells": [
  {
   "cell_type": "markdown",
   "metadata": {},
   "source": [
    "#### Find non-duplicate number  \n",
    "> Question: Given a list of integers which contains pairs of duplicates, implement a data structure and algorithm which finds the non-duplicate number. (Asumming only one value is not duplicated)  \n",
    ">  Ex. nums = [6, 7, 7, 2, 6, 5, 3, 3, 2]  --> return 5"
   ]
  },
  {
   "cell_type": "markdown",
   "metadata": {},
   "source": [
    "#### Solution 1: Using hash map"
   ]
  },
  {
   "cell_type": "code",
   "execution_count": 11,
   "metadata": {},
   "outputs": [
    {
     "data": {
      "text/plain": [
       "5"
      ]
     },
     "execution_count": 11,
     "metadata": {},
     "output_type": "execute_result"
    }
   ],
   "source": [
    "class Solution():\n",
    "    def find_non_duplicate_number(self, nums):\n",
    "        '''\n",
    "        Using hash map (Python dict)\n",
    "        Time complexity: O(n)\n",
    "        Space complexity: O(n)\n",
    "        '''\n",
    "        dic = {}\n",
    "        for num in nums:\n",
    "            dic[num] = dic.get(num, 0) + 1\n",
    "        for k, v in dic.items():\n",
    "            if v == 1:  \n",
    "                return k\n",
    "    \n",
    "unique_num = Solution().find_non_duplicate_number(nums= [6, 7, 7, 2, 6, 5, 3, 3, 2])\n",
    "unique_num"
   ]
  },
  {
   "cell_type": "markdown",
   "metadata": {},
   "source": [
    "#### Solution 2: Using XOR\n",
    "> This method will work only if duplicated number are in pairs and only one value is not duplicated.  \n",
    "```  \n",
    "XOR (bit operation)\n",
    "1^1 = 0\n",
    "0^0 = 0\n",
    "1^0 = 1\n",
    "0^1 = 1\n",
    "As a result:\n",
    "5^5 = 101^101 = 000  (XOR of the same number will return 0)\n",
    "0^5 = 000^101 = 101  (XOR of 0 and a number will return this number) \n",
    "```"
   ]
  },
  {
   "cell_type": "code",
   "execution_count": 20,
   "metadata": {},
   "outputs": [
    {
     "name": "stdout",
     "output_type": "stream",
     "text": [
      "num=6, unique=6\n",
      "num=7, unique=1\n",
      "num=7, unique=6\n",
      "num=2, unique=4\n",
      "num=6, unique=2\n",
      "num=5, unique=7\n",
      "num=3, unique=4\n",
      "num=3, unique=7\n",
      "num=2, unique=5\n"
     ]
    },
    {
     "data": {
      "text/plain": [
       "5"
      ]
     },
     "execution_count": 20,
     "metadata": {},
     "output_type": "execute_result"
    }
   ],
   "source": [
    "class Solution():\n",
    "    def find_non_duplicate_number_using_XOR(self, nums):\n",
    "        '''\n",
    "        Using XOR bit operation\n",
    "        Time complexity: O(n)\n",
    "        Space complexity: O(1)\n",
    "        '''\n",
    "        unique = 0\n",
    "        for num in nums:\n",
    "            unique ^= num\n",
    "            print('num={}, unique={}'.format(num, unique))\n",
    "        return unique\n",
    "    \n",
    "unique_num = Solution().find_non_duplicate_number_using_XOR(nums= [6, 7, 7, 2, 6, 5, 3, 3, 2])\n",
    "unique_num"
   ]
  },
  {
   "cell_type": "code",
   "execution_count": null,
   "metadata": {},
   "outputs": [],
   "source": []
  }
 ],
 "metadata": {
  "kernelspec": {
   "display_name": "Python 3",
   "language": "python",
   "name": "python3"
  },
  "language_info": {
   "codemirror_mode": {
    "name": "ipython",
    "version": 3
   },
   "file_extension": ".py",
   "mimetype": "text/x-python",
   "name": "python",
   "nbconvert_exporter": "python",
   "pygments_lexer": "ipython3",
   "version": "3.7.3"
  }
 },
 "nbformat": 4,
 "nbformat_minor": 2
}
