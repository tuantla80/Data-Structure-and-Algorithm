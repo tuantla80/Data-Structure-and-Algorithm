{
 "cells": [
  {
   "cell_type": "markdown",
   "metadata": {},
   "source": [
    "### Ramsom note  \n",
    "> Ref: https://leetcode.com/problems/ransom-note/"
   ]
  },
  {
   "cell_type": "code",
   "execution_count": 14,
   "metadata": {},
   "outputs": [
    {
     "name": "stdout",
     "output_type": "stream",
     "text": [
      "False\n",
      "False\n",
      "True\n"
     ]
    }
   ],
   "source": [
    "'''\n",
    "Approach: Using counter, which is a hash map (key and value) - a Python dict\n",
    "'''\n",
    "import collections\n",
    "\n",
    "class Solution(object):\n",
    "    def canConstruct(self, ransomNote: str, magazine: str) -> bool:\n",
    "        \"\"\"\n",
    "        :type ransomNote: str\n",
    "        :type magazine: str\n",
    "        :rtype: bool\n",
    "        \"\"\"\n",
    "        magazine_dic = collections.defaultdict(int)  # defaultdict: if key is not in there, its value is 0\n",
    "        \n",
    "        # Counter of magazine\n",
    "        for c in magazine:\n",
    "            magazine_dic[c] += 1\n",
    "                \n",
    "        for c in ransomNote:\n",
    "            magazine_dic[c] -= 1\n",
    "            if magazine_dic[c] == -1:  # c is not existed in the magazine_dic counter\n",
    "                return False\n",
    "        # End of for c in ransom\n",
    "        return True\n",
    "    \n",
    "# Test\n",
    "print(Solution().canConstruct(\"a\", \"b\"))\n",
    "print(Solution().canConstruct(\"aa\", \"ab\"))\n",
    "print(Solution().canConstruct(\"aa\", \"aab\"))      "
   ]
  },
  {
   "cell_type": "code",
   "execution_count": 5,
   "metadata": {},
   "outputs": [],
   "source": [
    "collections.defaultdict?"
   ]
  }
 ],
 "metadata": {
  "kernelspec": {
   "display_name": "Python 3",
   "language": "python",
   "name": "python3"
  },
  "language_info": {
   "codemirror_mode": {
    "name": "ipython",
    "version": 3
   },
   "file_extension": ".py",
   "mimetype": "text/x-python",
   "name": "python",
   "nbconvert_exporter": "python",
   "pygments_lexer": "ipython3",
   "version": "3.7.3"
  }
 },
 "nbformat": 4,
 "nbformat_minor": 2
}
